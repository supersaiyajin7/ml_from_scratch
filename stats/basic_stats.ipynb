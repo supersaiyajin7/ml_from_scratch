{
 "cells": [
  {
   "cell_type": "code",
   "execution_count": 6,
   "metadata": {},
   "outputs": [],
   "source": [
    "import numpy as np"
   ]
  },
  {
   "cell_type": "markdown",
   "metadata": {},
   "source": [
    "COVARIANCE"
   ]
  },
  {
   "cell_type": "code",
   "execution_count": 40,
   "metadata": {},
   "outputs": [],
   "source": [
    "vectors = [[1, 2, 3], [4, 5, 6]]"
   ]
  },
  {
   "cell_type": "code",
   "execution_count": 50,
   "metadata": {},
   "outputs": [],
   "source": [
    "num_features = len(vectors)\n",
    "num_observations = len(vectors[0])"
   ]
  },
  {
   "cell_type": "code",
   "execution_count": 55,
   "metadata": {},
   "outputs": [],
   "source": [
    "vector_mean = [sum(vectors[i])/num_observations for i in range(num_features)]"
   ]
  },
  {
   "cell_type": "code",
   "execution_count": 56,
   "metadata": {},
   "outputs": [
    {
     "data": {
      "text/plain": [
       "[2.0, 5.0]"
      ]
     },
     "execution_count": 56,
     "metadata": {},
     "output_type": "execute_result"
    }
   ],
   "source": [
    "vector_mean"
   ]
  },
  {
   "cell_type": "code",
   "execution_count": 62,
   "metadata": {},
   "outputs": [
    {
     "name": "stdout",
     "output_type": "stream",
     "text": [
      "deviations[0][0] = 1 - 2.0 = -1.0\n",
      "deviations[0][1] = 2 - 2.0 = 0.0\n",
      "deviations[0][2] = 3 - 2.0 = 1.0\n",
      "deviations[1][0] = 4 - 5.0 = -1.0\n",
      "deviations[1][1] = 5 - 5.0 = 0.0\n",
      "deviations[1][2] = 6 - 5.0 = 1.0\n"
     ]
    }
   ],
   "source": [
    "# normal implementation using loops for covariance without numpy\n",
    "\n",
    "deviations = []\n",
    "for i in range(num_features):\n",
    "    deviations.append([])\n",
    "    for j in range(num_observations):\n",
    "        deviations[i].append(vectors[i][j] - vector_mean[i])\n",
    "        print(f\"deviations[{i}][{j}] = {vectors[i][j]} - {vector_mean[i]} = {deviations[i][j]}\")\n"
   ]
  },
  {
   "cell_type": "code",
   "execution_count": 63,
   "metadata": {},
   "outputs": [
    {
     "data": {
      "text/plain": [
       "[[-1.0, 0.0, 1.0], [-1.0, 0.0, 1.0]]"
      ]
     },
     "execution_count": 63,
     "metadata": {},
     "output_type": "execute_result"
    }
   ],
   "source": [
    "deviations"
   ]
  },
  {
   "cell_type": "code",
   "execution_count": 75,
   "metadata": {},
   "outputs": [
    {
     "name": "stdout",
     "output_type": "stream",
     "text": [
      "0, 0, 0\n",
      "0, 0, 1\n",
      "0, 0, 2\n",
      "0, 1, 0\n",
      "0, 1, 1\n",
      "0, 1, 2\n",
      "1, 0, 0\n",
      "1, 0, 1\n",
      "1, 0, 2\n",
      "1, 1, 0\n",
      "1, 1, 1\n",
      "1, 1, 2\n"
     ]
    }
   ],
   "source": [
    "covariance_matrix = []\n",
    "for i in range(num_features):\n",
    "    row = []\n",
    "    for j in range(num_features):\n",
    "        covariance_sum = 0\n",
    "        for k in range(num_observations):\n",
    "            covariance_sum += deviations[i][k] * deviations[j][k]\n",
    "            print(f\"{i}, {j}, {k}\")\n",
    "        covariance = covariance_sum / (num_observations - 1)\n",
    "        row.append(covariance)\n",
    "    covariance_matrix.append(row)"
   ]
  },
  {
   "cell_type": "code",
   "execution_count": 74,
   "metadata": {},
   "outputs": [
    {
     "data": {
      "text/plain": [
       "[[1.0, 1.0], [1.0, 1.0]]"
      ]
     },
     "execution_count": 74,
     "metadata": {},
     "output_type": "execute_result"
    }
   ],
   "source": [
    "covariance_matrix"
   ]
  },
  {
   "cell_type": "code",
   "execution_count": 77,
   "metadata": {},
   "outputs": [],
   "source": [
    "# putting all of this under a function \n",
    "def covariance_matrix_normal(vectors):\n",
    "    num_features = len(vectors)\n",
    "    num_observations = len(vectors[0])\n",
    "\n",
    "    vector_mean = [sum(vectors[i])/num_observations for i in range(num_features)]\n",
    "\n",
    "    deviations = []\n",
    "    for i in range(num_features):\n",
    "        deviations.append([])\n",
    "        for j in range(num_observations):\n",
    "            deviations[i].append(vectors[i][j] - vector_mean[i])\n",
    "\n",
    "    covariance_matrix = []\n",
    "    for i in range(num_features):\n",
    "        row = []\n",
    "        for j in range(num_features):\n",
    "            covariance_sum = 0\n",
    "            for k in range(num_observations):\n",
    "                covariance_sum += deviations[i][k] * deviations[j][k]\n",
    "            covariance = covariance_sum / (num_observations - 1)\n",
    "            row.append(covariance)\n",
    "        covariance_matrix.append(row)\n",
    "\n",
    "    return covariance_matrix"
   ]
  },
  {
   "cell_type": "code",
   "execution_count": 78,
   "metadata": {},
   "outputs": [
    {
     "data": {
      "text/plain": [
       "[[1.0, 1.0], [1.0, 1.0]]"
      ]
     },
     "execution_count": 78,
     "metadata": {},
     "output_type": "execute_result"
    }
   ],
   "source": [
    "covariance_matrix_normal(vectors)"
   ]
  },
  {
   "cell_type": "code",
   "execution_count": null,
   "metadata": {},
   "outputs": [],
   "source": []
  },
  {
   "cell_type": "markdown",
   "metadata": {},
   "source": [
    "Using Numpy - for faster computing"
   ]
  },
  {
   "cell_type": "code",
   "execution_count": null,
   "metadata": {},
   "outputs": [],
   "source": [
    "# using numpy"
   ]
  },
  {
   "cell_type": "code",
   "execution_count": 48,
   "metadata": {},
   "outputs": [],
   "source": [
    "vectors = [[1, 2, 3], [4, 5, 6]]"
   ]
  },
  {
   "cell_type": "code",
   "execution_count": 7,
   "metadata": {},
   "outputs": [],
   "source": [
    "vectors = np.array(vectors)"
   ]
  },
  {
   "cell_type": "code",
   "execution_count": 22,
   "metadata": {},
   "outputs": [],
   "source": [
    "mean_vector = np.mean(vectors, axis=1)"
   ]
  },
  {
   "cell_type": "code",
   "execution_count": 25,
   "metadata": {},
   "outputs": [
    {
     "data": {
      "text/plain": [
       "array([2., 5.])"
      ]
     },
     "execution_count": 25,
     "metadata": {},
     "output_type": "execute_result"
    }
   ],
   "source": [
    "mean_vector"
   ]
  },
  {
   "cell_type": "code",
   "execution_count": 26,
   "metadata": {},
   "outputs": [],
   "source": [
    "# computing deviations\n",
    "deviations = vectors - mean_vector[:, np.newaxis]  # np.newaxis -  changes the shape of the mean vector to (2, 1)"
   ]
  },
  {
   "cell_type": "code",
   "execution_count": 35,
   "metadata": {},
   "outputs": [
    {
     "data": {
      "text/plain": [
       "array([[-1.,  0.,  1.],\n",
       "       [-1.,  0.,  1.]])"
      ]
     },
     "execution_count": 35,
     "metadata": {},
     "output_type": "execute_result"
    }
   ],
   "source": [
    "deviations"
   ]
  },
  {
   "cell_type": "code",
   "execution_count": 36,
   "metadata": {},
   "outputs": [],
   "source": [
    "covariance_matrix = np.dot(deviations, deviations.T) / (vectors.shape[1] - 1)"
   ]
  },
  {
   "cell_type": "code",
   "execution_count": 43,
   "metadata": {},
   "outputs": [],
   "source": [
    "## putting this together as a function\n",
    "\n",
    "def compute_covariance_matrix_using_numpy(vectors):\n",
    "    vectors = np.array(vectors)\n",
    "    mean_vector = np.mean(vectors, axis=1)\n",
    "    deviations = vectors - mean_vector[:, np.newaxis]\n",
    "    covariance_matrix = np.dot(deviations, deviations.T) / (vectors.shape[1] - 1)\n",
    "    return covariance_matrix"
   ]
  },
  {
   "cell_type": "code",
   "execution_count": null,
   "metadata": {},
   "outputs": [],
   "source": []
  },
  {
   "cell_type": "markdown",
   "metadata": {},
   "source": [
    "Descriptive statistics - describer"
   ]
  },
  {
   "cell_type": "code",
   "execution_count": 92,
   "metadata": {},
   "outputs": [],
   "source": [
    "# data = [10, 20, 30, 40, 50]\n",
    "data = [1, 2, 2, 3, 4, 4, 4, 5]"
   ]
  },
  {
   "cell_type": "code",
   "execution_count": 98,
   "metadata": {},
   "outputs": [],
   "source": [
    "\n",
    "def calculate_mode(data):\n",
    "    values, counts = np.unique(data, return_counts=True)\n",
    "    max_count_index = np.argmax(counts)\n",
    "    mode = values[max_count_index]\n",
    "    return mode\n",
    "\n",
    "\n",
    "def descriptive_statistics(data):\n",
    "    # Your code here\n",
    "    data = np.array(data)\n",
    "    mode = calculate_mode(data)\n",
    "    percentiles = np.percentile(data, [25, 50, 75])\n",
    "    iqr = percentiles[2] - percentiles[0]\n",
    "\t\n",
    "    stats_dict = {\n",
    "        \"mean\": np.mean(data),\n",
    "        \"median\": np.median(data),\n",
    "        \"mode\": mode,\n",
    "        \"variance\": np.round(np.var(data),4),\n",
    "        \"standard_deviation\": np.round(np.std(data),4),\n",
    "        \"25th_percentile\": percentiles[0],\n",
    "        \"50th_percentile\": percentiles[1],\n",
    "        \"75th_percentile\": percentiles[2],\n",
    "        \"interquartile_range\": iqr\n",
    "    }\n",
    "    return stats_dict"
   ]
  },
  {
   "cell_type": "code",
   "execution_count": 99,
   "metadata": {},
   "outputs": [
    {
     "data": {
      "text/plain": [
       "{'mean': 3.125,\n",
       " 'median': 3.5,\n",
       " 'mode': 4,\n",
       " 'variance': 1.6094,\n",
       " 'standard_deviation': 1.2686,\n",
       " '25th_percentile': 2.0,\n",
       " '50th_percentile': 3.5,\n",
       " '75th_percentile': 4.0,\n",
       " 'interquartile_range': 2.0}"
      ]
     },
     "execution_count": 99,
     "metadata": {},
     "output_type": "execute_result"
    }
   ],
   "source": [
    "descriptive_statistics(data)"
   ]
  },
  {
   "cell_type": "code",
   "execution_count": null,
   "metadata": {},
   "outputs": [],
   "source": []
  }
 ],
 "metadata": {
  "kernelspec": {
   "display_name": "mlearn",
   "language": "python",
   "name": "python3"
  },
  "language_info": {
   "codemirror_mode": {
    "name": "ipython",
    "version": 3
   },
   "file_extension": ".py",
   "mimetype": "text/x-python",
   "name": "python",
   "nbconvert_exporter": "python",
   "pygments_lexer": "ipython3",
   "version": "3.9.13"
  }
 },
 "nbformat": 4,
 "nbformat_minor": 2
}
