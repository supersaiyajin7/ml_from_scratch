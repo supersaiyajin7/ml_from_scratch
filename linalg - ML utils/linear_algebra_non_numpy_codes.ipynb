{
 "cells": [
  {
   "cell_type": "code",
   "execution_count": null,
   "metadata": {},
   "outputs": [],
   "source": [
    "# Lets start with something simple - dot product of matrix and a vector\n",
    "a = [[1,2],[2,4]]\n",
    "b = [1,2]"
   ]
  },
  {
   "cell_type": "code",
   "execution_count": 3,
   "metadata": {},
   "outputs": [],
   "source": [
    "def dot_product_without_numpy(a, b):\n",
    "    \n",
    "    if len(a[0]) != len(b):\n",
    "        return -1\n",
    "    \n",
    "    dot_product_list = []\n",
    "    for i in a:\n",
    "        individual_sum = 0\n",
    "        for j in range(len(i)):\n",
    "            individual_sum += (i[j]*b[j])\n",
    "        dot_product_list.append(individual_sum)\n",
    "    \n",
    "    return dot_product_list"
   ]
  },
  {
   "cell_type": "code",
   "execution_count": 5,
   "metadata": {},
   "outputs": [
    {
     "data": {
      "text/plain": [
       "[5, 10]"
      ]
     },
     "execution_count": 5,
     "metadata": {},
     "output_type": "execute_result"
    }
   ],
   "source": [
    "dot_product_without_numpy(a, b) # wow, okay - lets move quickly !"
   ]
  },
  {
   "cell_type": "code",
   "execution_count": 6,
   "metadata": {},
   "outputs": [],
   "source": [
    "# Lets do a simple transpose of a matrix without numpy "
   ]
  },
  {
   "cell_type": "code",
   "execution_count": 7,
   "metadata": {},
   "outputs": [],
   "source": [
    "a = [[1,2,3],[4,5,6]] # time to transpose A"
   ]
  },
  {
   "cell_type": "code",
   "execution_count": 101,
   "metadata": {},
   "outputs": [],
   "source": [
    "def transpose_matrix(a):\n",
    "\t# let me create a placeholder for shape change\n",
    "    # a_transpose = [len(a)*[0]]*len(a[0]) - dont do this - its a shallow copy method, leading to improper update\n",
    "    a_transpose = [[0] * len(a) for _ in range(len(a[0]))]\n",
    "    for i in range(len(a)):\n",
    "        for j in range(len(a[0])):\n",
    "            try:\n",
    "                a_transpose[j][i] = a[i][j]\n",
    "            except:\n",
    "                pass\n",
    "    return a_transpose"
   ]
  },
  {
   "cell_type": "code",
   "execution_count": 103,
   "metadata": {},
   "outputs": [
    {
     "data": {
      "text/plain": [
       "[[1, 4], [2, 5], [3, 6]]"
      ]
     },
     "execution_count": 103,
     "metadata": {},
     "output_type": "execute_result"
    }
   ],
   "source": [
    "transpose_matrix(a)"
   ]
  },
  {
   "cell_type": "code",
   "execution_count": null,
   "metadata": {},
   "outputs": [],
   "source": []
  }
 ],
 "metadata": {
  "kernelspec": {
   "display_name": "mlearn",
   "language": "python",
   "name": "python3"
  },
  "language_info": {
   "codemirror_mode": {
    "name": "ipython",
    "version": 3
   },
   "file_extension": ".py",
   "mimetype": "text/x-python",
   "name": "python",
   "nbconvert_exporter": "python",
   "pygments_lexer": "ipython3",
   "version": "3.9.13"
  }
 },
 "nbformat": 4,
 "nbformat_minor": 2
}
